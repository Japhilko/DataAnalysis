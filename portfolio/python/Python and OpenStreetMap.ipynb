{
 "cells": [
  {
   "cell_type": "markdown",
   "metadata": {},
   "source": [
    "# Python and OpenStreetMap"
   ]
  },
  {
   "cell_type": "code",
   "execution_count": 1,
   "metadata": {
    "collapsed": true
   },
   "outputs": [],
   "source": [
    "from osmapi import OsmApi"
   ]
  },
  {
   "cell_type": "code",
   "execution_count": 2,
   "metadata": {
    "collapsed": true
   },
   "outputs": [],
   "source": [
    "# http://wiki.openstreetmap.org/wiki/Osmapi"
   ]
  },
  {
   "cell_type": "code",
   "execution_count": 3,
   "metadata": {
    "collapsed": true
   },
   "outputs": [],
   "source": [
    "MyApi = OsmApi()"
   ]
  },
  {
   "cell_type": "code",
   "execution_count": 4,
   "metadata": {
    "collapsed": false
   },
   "outputs": [
    {
     "name": "stdout",
     "output_type": "stream",
     "text": [
      "{u'changeset': 17927172, u'uid': 605010, u'timestamp': datetime.datetime(2013, 9, 19, 18, 4, 30), u'lon': 10.7899277, u'visible': True, u'version': 5, u'user': u'Noen', u'lat': 59.9503134, u'tag': {}, u'id': 123}\n"
     ]
    }
   ],
   "source": [
    "print MyApi.NodeGet(123)"
   ]
  },
  {
   "cell_type": "code",
   "execution_count": 5,
   "metadata": {
    "collapsed": true
   },
   "outputs": [],
   "source": [
    "# http://de.slideshare.net/mishok13/making-use-of-openstreetmap-data-with-python"
   ]
  },
  {
   "cell_type": "code",
   "execution_count": 8,
   "metadata": {
    "collapsed": false
   },
   "outputs": [],
   "source": [
    "import geocoder"
   ]
  },
  {
   "cell_type": "code",
   "execution_count": 9,
   "metadata": {
    "collapsed": true
   },
   "outputs": [],
   "source": [
    "g = geocoder.osm(\"New York City\")"
   ]
  },
  {
   "cell_type": "code",
   "execution_count": 10,
   "metadata": {
    "collapsed": false
   },
   "outputs": [
    {
     "name": "stdout",
     "output_type": "stream",
     "text": [
      "<[OK] Osm - Geocode [NYC, New York, United States of America]>\n"
     ]
    }
   ],
   "source": [
    "print(g)"
   ]
  },
  {
   "cell_type": "code",
   "execution_count": 12,
   "metadata": {
    "collapsed": false
   },
   "outputs": [],
   "source": [
    "# https://geocoder.readthedocs.org/en/latest/providers/OpenStreetMap/"
   ]
  },
  {
   "cell_type": "code",
   "execution_count": 13,
   "metadata": {
    "collapsed": false
   },
   "outputs": [
    {
     "data": {
      "text/plain": [
       "{'accuracy': 0.98292818999099,\n",
       " 'address': 'NYC, New York, United States of America',\n",
       " 'bbox': {'northeast': [40.917577, -73.7001714],\n",
       "  'southwest': [40.477399, -74.2590899]},\n",
       " 'city': 'NYC',\n",
       " 'confidence': 1,\n",
       " 'country': 'United States of America',\n",
       " 'encoding': 'utf-8',\n",
       " 'geometry': {'coordinates': [-73.9865812, 40.7305991], 'type': 'Point'},\n",
       " 'icon': 'http://nominatim.openstreetmap.org/images/mapicons/poi_place_city.p.20.png',\n",
       " 'importance': 0.98292818999099,\n",
       " 'lat': 40.7305991,\n",
       " 'lng': -73.9865812,\n",
       " 'location': 'New York City',\n",
       " 'method': 'geocode',\n",
       " 'ok': True,\n",
       " 'osm_id': '175905',\n",
       " 'osm_type': 'relation',\n",
       " 'place_id': '127778164',\n",
       " 'place_rank': 16,\n",
       " 'provider': 'osm',\n",
       " 'quality': 'city',\n",
       " 'region': 'New York',\n",
       " 'state': 'New York',\n",
       " 'status': 'OK',\n",
       " 'type': 'city'}"
      ]
     },
     "execution_count": 13,
     "metadata": {},
     "output_type": "execute_result"
    }
   ],
   "source": [
    "g.json"
   ]
  },
  {
   "cell_type": "code",
   "execution_count": 17,
   "metadata": {
    "collapsed": true
   },
   "outputs": [],
   "source": [
    "g = geocoder.osm('11 Wall Street, New York')"
   ]
  },
  {
   "cell_type": "code",
   "execution_count": 18,
   "metadata": {
    "collapsed": false
   },
   "outputs": [
    {
     "data": {
      "text/plain": [
       "{'addr:city': 'NYC',\n",
       " 'addr:country': 'United States of America',\n",
       " 'addr:housenumber': '11',\n",
       " 'addr:postal': '10005',\n",
       " 'addr:state': 'New York',\n",
       " 'addr:street': 'Wall Street',\n",
       " 'population': None,\n",
       " 'x': -74.010865,\n",
       " 'y': 40.7071407}"
      ]
     },
     "execution_count": 18,
     "metadata": {},
     "output_type": "execute_result"
    }
   ],
   "source": [
    "g.osm"
   ]
  },
  {
   "cell_type": "code",
   "execution_count": 19,
   "metadata": {
    "collapsed": true
   },
   "outputs": [],
   "source": [
    "gMA = geocoder.osm(\"Mannheim B2,1\")"
   ]
  },
  {
   "cell_type": "code",
   "execution_count": 20,
   "metadata": {
    "collapsed": false
   },
   "outputs": [
    {
     "data": {
      "text/plain": [
       "{'addr:city': 'Mannheim',\n",
       " 'addr:country': 'Deutschland',\n",
       " 'addr:housenumber': '1',\n",
       " 'addr:postal': '68159',\n",
       " 'addr:state': 'Baden-W\\xc3\\xbcrttemberg',\n",
       " 'population': None,\n",
       " 'x': 8.463061,\n",
       " 'y': 49.4857359}"
      ]
     },
     "execution_count": 20,
     "metadata": {},
     "output_type": "execute_result"
    }
   ],
   "source": [
    "gMA.osm"
   ]
  },
  {
   "cell_type": "markdown",
   "metadata": {},
   "source": [
    "https://vimeo.com/101220572\n",
    "https://www.e-education.psu.edu/geog585/node/739"
   ]
  }
 ],
 "metadata": {
  "kernelspec": {
   "display_name": "Python 2",
   "language": "python",
   "name": "python2"
  },
  "language_info": {
   "codemirror_mode": {
    "name": "ipython",
    "version": 2
   },
   "file_extension": ".py",
   "mimetype": "text/x-python",
   "name": "python",
   "nbconvert_exporter": "python",
   "pygments_lexer": "ipython2",
   "version": "2.7.10"
  }
 },
 "nbformat": 4,
 "nbformat_minor": 0
}
