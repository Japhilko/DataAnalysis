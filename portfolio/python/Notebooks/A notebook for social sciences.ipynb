{
 "cells": [
  {
   "cell_type": "markdown",
   "metadata": {},
   "source": [
    "# [Jupyter and multiple Languages](http://carreau.github.io/posts/23-Cross-Language-Integration.html#Jupyter-and-multiple-Languages)"
   ]
  },
  {
   "cell_type": "code",
   "execution_count": 5,
   "metadata": {
    "collapsed": false
   },
   "outputs": [],
   "source": [
    "import sys\n",
    "\n"
   ]
  },
  {
   "cell_type": "code",
   "execution_count": 6,
   "metadata": {
    "collapsed": false
   },
   "outputs": [
    {
     "data": {
      "text/plain": [
       "sys.version_info(major=2, minor=7, micro=12, releaselevel='final', serial=0)"
      ]
     },
     "execution_count": 6,
     "metadata": {},
     "output_type": "execute_result"
    }
   ],
   "source": [
    "sys.version_info"
   ]
  },
  {
   "cell_type": "code",
   "execution_count": 7,
   "metadata": {
    "collapsed": false
   },
   "outputs": [
    {
     "name": "stdout",
     "output_type": "stream",
     "text": [
      "The slowest run took 8.41 times longer than the fastest. This could mean that an intermediate result is being cached.\n",
      "10000 loops, best of 3: 28.8 µs per loop\n"
     ]
    }
   ],
   "source": [
    "%timeit [x for x in range(1000)]"
   ]
  },
  {
   "cell_type": "code",
   "execution_count": 10,
   "metadata": {
    "collapsed": false
   },
   "outputs": [],
   "source": [
    "%%ruby --out fib15\n",
    "def fibonacci( n )\n",
    "  return  n  if ( 0..1 ).include? n\n",
    "  ( fibonacci( n - 1 ) + fibonacci( n - 2 ) )\n",
    "end\n",
    "puts fibonacci( 15 )"
   ]
  },
  {
   "cell_type": "code",
   "execution_count": 11,
   "metadata": {
    "collapsed": false
   },
   "outputs": [
    {
     "data": {
      "text/plain": [
       "'610\\r\\n'"
      ]
     },
     "execution_count": 11,
     "metadata": {},
     "output_type": "execute_result"
    }
   ],
   "source": [
    "fib15"
   ]
  },
  {
   "cell_type": "code",
   "execution_count": 12,
   "metadata": {
    "collapsed": false
   },
   "outputs": [
    {
     "data": {
      "text/plain": [
       "610"
      ]
     },
     "execution_count": 12,
     "metadata": {},
     "output_type": "execute_result"
    }
   ],
   "source": [
    "int(fib15.strip())"
   ]
  },
  {
   "cell_type": "code",
   "execution_count": 14,
   "metadata": {
    "collapsed": false
   },
   "outputs": [
    {
     "data": {
      "text/plain": [
       "610"
      ]
     },
     "execution_count": 14,
     "metadata": {},
     "output_type": "execute_result"
    }
   ],
   "source": [
    "int(fib15.strip())"
   ]
  },
  {
   "cell_type": "code",
   "execution_count": 15,
   "metadata": {
    "collapsed": false
   },
   "outputs": [
    {
     "name": "stdout",
     "output_type": "stream",
     "text": [
      "Collecting rpy2\n",
      "  Using cached rpy2-2.8.5.tar.gz\n",
      "    Complete output from command python setup.py egg_info:\n",
      "    R version 3.1.3 (2015-03-09) -- \"Smooth Sidewalk\"\n",
      "    Copyright (C) 2015 The R Foundation for Statistical Computing\n",
      "    Platform: x86_64-w64-mingw32/x64 (64-bit)\n",
      "    \n",
      "    R is free software and comes with ABSOLUTELY NO WARRANTY.\n",
      "    You are welcome to redistribute it under the terms of the\n",
      "    GNU General Public License versions 2 or 3.\n",
      "    For more information about these matters see\n",
      "    http://www.gnu.org/licenses/.\n",
      "    \n",
      "    Der Befehl \"sh\" ist entweder falsch geschrieben oder\n",
      "    konnte nicht gefunden werden.\n",
      "    R version 3.1.3 (2015-03-09) -- \"Smooth Sidewalk\"\n",
      "    C:\\Users\\kolbjp\\AppData\\Local\\Continuum\\Anaconda\\R\\bin\\R CMD config --ldflags\n",
      "    D:\\Temp\\pip-build-a6r_hh78\\rpy2\\setup.py:236: UserWarning: R did not seem to have the minimum required version number\n",
      "      warnings.warn(\"R did not seem to have the minimum required version number\")\n",
      "    Traceback (most recent call last):\n",
      "      File \"<string>\", line 1, in <module>\n",
      "      File \"D:\\Temp\\pip-build-a6r_hh78\\rpy2\\setup.py\", line 331, in <module>\n",
      "        ri_ext = getRinterface_ext()\n",
      "      File \"D:\\Temp\\pip-build-a6r_hh78\\rpy2\\setup.py\", line 238, in getRinterface_ext\n",
      "        ldf = shlex.split(' '.join(rexec.cmd_config('--ldflags')))\n",
      "      File \"D:\\Temp\\pip-build-a6r_hh78\\rpy2\\setup.py\", line 191, in cmd_config\n",
      "        universal_newlines = True)\n",
      "      File \"d:\\programme\\lib\\subprocess.py\", line 626, in check_output\n",
      "        **kwargs).stdout\n",
      "      File \"d:\\programme\\lib\\subprocess.py\", line 708, in run\n",
      "        output=stdout, stderr=stderr)\n",
      "    subprocess.CalledProcessError: Command '('C:\\\\Users\\\\kolbjp\\\\AppData\\\\Local\\\\Continuum\\\\Anaconda\\\\R\\\\bin\\\\R', 'CMD', 'config', '--ldflags')' returned non-zero exit status 1\n",
      "    \n",
      "    ----------------------------------------\n"
     ]
    },
    {
     "name": "stderr",
     "output_type": "stream",
     "text": [
      "Command \"python setup.py egg_info\" failed with error code 1 in D:\\Temp\\pip-build-a6r_hh78\\rpy2\\\n"
     ]
    }
   ],
   "source": [
    "!pip install rpy2\n"
   ]
  }
 ],
 "metadata": {
  "kernelspec": {
   "display_name": "Python 2",
   "language": "python",
   "name": "python2"
  },
  "language_info": {
   "codemirror_mode": {
    "name": "ipython",
    "version": 2
   },
   "file_extension": ".py",
   "mimetype": "text/x-python",
   "name": "python",
   "nbconvert_exporter": "python",
   "pygments_lexer": "ipython2",
   "version": "2.7.12"
  }
 },
 "nbformat": 4,
 "nbformat_minor": 0
}
