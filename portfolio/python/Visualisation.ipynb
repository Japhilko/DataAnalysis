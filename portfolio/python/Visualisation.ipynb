{
 "cells": [
  {
   "cell_type": "markdown",
   "metadata": {
    "collapsed": true
   },
   "source": [
    "## Visualisation\n",
    "First load necessary packages\n",
    "\n",
    "- [Python Pandas Cookbook](https://www.youtube.com/watch?v=E8OQAdQlljE)"
   ]
  },
  {
   "cell_type": "code",
   "execution_count": 13,
   "metadata": {
    "collapsed": false
   },
   "outputs": [],
   "source": [
    "import numpy as np\n",
    "import pandas as pd\n",
    "import matplotlib.pyplot as plt"
   ]
  },
  {
   "cell_type": "code",
   "execution_count": 25,
   "metadata": {
    "collapsed": false
   },
   "outputs": [
    {
     "data": {
      "text/plain": [
       "<matplotlib.figure.Figure at 0x18633390>"
      ]
     },
     "execution_count": 25,
     "metadata": {},
     "output_type": "execute_result"
    }
   ],
   "source": [
    "#!/usr/bin/env python\n",
    "import numpy as np\n",
    "import pylab as P\n",
    "\n",
    "#\n",
    "# The hist() function now has a lot more options\n",
    "#\n",
    "\n",
    "#\n",
    "# first create a single histogram\n",
    "#\n",
    "mu, sigma = 200, 25\n",
    "x = mu + sigma*P.randn(10000)\n",
    "\n",
    "# the histogram of the data with histtype='step'\n",
    "n, bins, patches = P.hist(x, 50, normed=1, histtype='stepfilled')\n",
    "P.setp(patches, 'facecolor', 'g', 'alpha', 0.75)\n",
    "\n",
    "# add a line showing the expected distribution\n",
    "y = P.normpdf( bins, mu, sigma)\n",
    "l = P.plot(bins, y, 'k--', linewidth=1.5)\n",
    "\n",
    "\n",
    "#\n",
    "# create a histogram by providing the bin edges (unequally spaced)\n",
    "#\n",
    "P.figure()\n"
   ]
  },
  {
   "cell_type": "code",
   "execution_count": null,
   "metadata": {
    "collapsed": true
   },
   "outputs": [],
   "source": []
  }
 ],
 "metadata": {
  "kernelspec": {
   "display_name": "Python 2",
   "language": "python",
   "name": "python2"
  },
  "language_info": {
   "codemirror_mode": {
    "name": "ipython",
    "version": 2
   },
   "file_extension": ".py",
   "mimetype": "text/x-python",
   "name": "python",
   "nbconvert_exporter": "python",
   "pygments_lexer": "ipython2",
   "version": "2.7.10"
  }
 },
 "nbformat": 4,
 "nbformat_minor": 0
}
