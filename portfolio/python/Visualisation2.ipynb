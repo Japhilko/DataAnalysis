# -*- coding: utf-8 -*-
"""
Created on Wed Jul 29 20:54:47 2015

@author: Kolb
"""


# https://www.youtube.com/watch?v=Owu4BBIyHMA
from Tkinter import *
root = Tk()

drawpad = Canvas(root,width=800,height=800,background="red")
drawpad.grid(row=0,column=1)

oval= drawpad.create_oval(10,100,50,50,fill="green")

#---------------------------------------------------#

# https://www.youtube.com/watch?v=59-3R1jAz3o
# module Graphics does not exist


import numpy as np
import pylab as P

# Histogram

